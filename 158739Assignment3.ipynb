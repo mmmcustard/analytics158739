{
 "cells": [
  {
   "cell_type": "code",
   "execution_count": 1,
   "id": "28e87b50",
   "metadata": {},
   "outputs": [
    {
     "data": {
      "text/html": [
       "<style>.container { width:85% !important; }</style>"
      ],
      "text/plain": [
       "<IPython.core.display.HTML object>"
      ]
     },
     "metadata": {},
     "output_type": "display_data"
    }
   ],
   "source": [
    "from IPython.display import display, HTML\n",
    "display(HTML(\"<style>.container { width:85% !important; }</style>\"))"
   ]
  },
  {
   "cell_type": "code",
   "execution_count": null,
   "id": "8130177a",
   "metadata": {},
   "outputs": [],
   "source": []
  },
  {
   "cell_type": "markdown",
   "id": "236a0fa4",
   "metadata": {},
   "source": [
    "## [insert name] Database Schema"
   ]
  },
  {
   "cell_type": "markdown",
   "id": "bc7f927c",
   "metadata": {},
   "source": [
    "![dbSchema](159739A3Schema.jpg)"
   ]
  },
  {
   "cell_type": "markdown",
   "id": "b37e068b",
   "metadata": {},
   "source": [
    "### High Level Description of [insert Name] Database"
   ]
  },
  {
   "cell_type": "markdown",
   "id": "95ad3059",
   "metadata": {},
   "source": [
    "#### Players\n",
    "Stores information about tennis players, including their unique PlayerID, Name, Ranking, Points, and details about whether they have wealthy parents and if their parents are mentioned on Wikipedia.\n",
    "\n",
    "#### Matches\n",
    "This table contains details about individual tennis matches, including MatchID, LocationID, TournamentID, CourtID, SurfaceID, RoundID, BestOf (the number of sets required to win the match), WinLoseName (the players' name), WLRank (the opponent's ranking), WPts (the opponent's ranking points), WLsets (the number of sets won and lost), Comment, AvgWL (average winning likelihood), and Win (indicating if the player won the match).\n",
    "\n",
    "#### Locations\n",
    "Represents the locations where tennis matches take place. It includes LocationID and Name.\n",
    "\n",
    "#### Tournaments\n",
    "Stores information about tennis tournaments; TournamentID, Name, and Tier (the level or category of the tournament, such as International, Grand Slam, etc.).\n",
    "\n",
    "#### Courts\n",
    "Describes the types of courts used in tennis matches. It includes CourtID and Type (e.g., Outdoor, Indoor).\n",
    "\n",
    "#### Surfaces\n",
    "Contains information about the playing surfaces used in tennis matches, such as SurfaceID and Type (e.g., Hard, Clay, Grass).\n",
    "\n",
    "#### Rounds\n",
    "Represents the different rounds or stages within a tennis tournament. It includes RoundID and Name (e.g., 1st Round, Quarterfinals, Finals).\n",
    "\n",
    "#### PlayerMatches\n",
    "This table establishes the one-to-many relationships between players and matches. It includes PlayerMatchID (a unique identifier for the relationship), PlayerID (referencing the Players table), and MatchID (referencing the Matches table."
   ]
  },
  {
   "cell_type": "code",
   "execution_count": null,
   "id": "f981e0cd",
   "metadata": {},
   "outputs": [],
   "source": []
  }
 ],
 "metadata": {
  "kernelspec": {
   "display_name": "Python 3 (ipykernel)",
   "language": "python",
   "name": "python3"
  },
  "language_info": {
   "codemirror_mode": {
    "name": "ipython",
    "version": 3
   },
   "file_extension": ".py",
   "mimetype": "text/x-python",
   "name": "python",
   "nbconvert_exporter": "python",
   "pygments_lexer": "ipython3",
   "version": "3.10.9"
  }
 },
 "nbformat": 4,
 "nbformat_minor": 5
}
