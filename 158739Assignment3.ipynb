{
 "cells": [
  {
   "cell_type": "code",
   "execution_count": 1,
   "id": "28e87b50",
   "metadata": {},
   "outputs": [
    {
     "data": {
      "text/html": [
       "<style>.container { width:85% !important; }</style>"
      ],
      "text/plain": [
       "<IPython.core.display.HTML object>"
      ]
     },
     "metadata": {},
     "output_type": "display_data"
    }
   ],
   "source": [
    "from IPython.display import display, HTML\n",
    "display(HTML(\"<style>.container { width:85% !important; }</style>\"))"
   ]
  },
  {
   "cell_type": "code",
   "execution_count": 2,
   "id": "8130177a",
   "metadata": {},
   "outputs": [],
   "source": [
    "%load_ext sql\n",
    "import pandas as pd\n",
    "import numpy as np"
   ]
  },
  {
   "cell_type": "markdown",
   "id": "236a0fa4",
   "metadata": {},
   "source": [
    "## [insert name] Database Schema"
   ]
  },
  {
   "cell_type": "markdown",
   "id": "bc7f927c",
   "metadata": {},
   "source": [
    "![dbSchema](159739A3Schema.jpg)"
   ]
  },
  {
   "cell_type": "markdown",
   "id": "b37e068b",
   "metadata": {},
   "source": [
    "### High Level Description of [insert Name] Database"
   ]
  },
  {
   "cell_type": "markdown",
   "id": "95ad3059",
   "metadata": {},
   "source": [
    "#### Players\n",
    "Stores information about tennis players, including their unique PlayerID, Name, Ranking, Points, and details about whether they have wealthy parents and if their parents are mentioned on Wikipedia.\n",
    "\n",
    "#### Matches\n",
    "This table contains details about individual tennis matches, including MatchID, LocationID, TournamentID, CourtID, SurfaceID, RoundID, BestOf (the number of sets required to win the match), WinLoseName (the players' name), WLRank (the opponent's ranking), WPts (the opponent's ranking points), WLsets (the number of sets won and lost), Comment, AvgWL (average winning likelihood), and Win (indicating if the player won the match).\n",
    "\n",
    "#### Locations\n",
    "Represents the locations where tennis matches take place. It includes LocationID and Name.\n",
    "\n",
    "#### Tournaments\n",
    "Stores information about tennis tournaments; TournamentID, Name, and Tier (the level or category of the tournament, such as International, Grand Slam, etc.).\n",
    "\n",
    "#### Courts\n",
    "Describes the types of courts used in tennis matches. It includes CourtID and Type (e.g., Outdoor, Indoor).\n",
    "\n",
    "#### Surfaces\n",
    "Contains information about the playing surfaces used in tennis matches, such as SurfaceID and Type (e.g., Hard, Clay, Grass).\n",
    "\n",
    "#### Rounds\n",
    "Represents the different rounds or stages within a tennis tournament. It includes RoundID and Name (e.g., 1st Round, Quarterfinals, Finals).\n",
    "\n",
    "#### PlayerMatches\n",
    "This table establishes the one-to-many relationships between players and matches. It includes PlayerMatchID (a unique identifier for the relationship), PlayerID (referencing the Players table), and MatchID (referencing the Matches table."
   ]
  },
  {
   "cell_type": "markdown",
   "id": "146e220f",
   "metadata": {},
   "source": [
    "## Connect to DB and Create Tables"
   ]
  },
  {
   "cell_type": "code",
   "execution_count": 4,
   "id": "db12e781",
   "metadata": {},
   "outputs": [],
   "source": [
    "%sql sqlite:///./158739Assignment3"
   ]
  },
  {
   "cell_type": "code",
   "execution_count": 19,
   "id": "f981e0cd",
   "metadata": {},
   "outputs": [
    {
     "name": "stdout",
     "output_type": "stream",
     "text": [
      "Done.\n",
      "Done.\n"
     ]
    },
    {
     "data": {
      "text/plain": [
       "[]"
      ]
     },
     "execution_count": 19,
     "metadata": {},
     "output_type": "execute_result"
    }
   ],
   "source": [
    "%%sql sqlite:///./158739Assignment3\n",
    "\n",
    "DROP TABLE IF EXISTS Courts;\n",
    "CREATE TABLE \"Courts\" (\n",
    "\"CourtID\" INTEGER NOT NULL UNIQUE,\n",
    "\"Type\" TEXT,\n",
    "PRIMARY KEY(\"CourtID\" AUTOINCREMENT)\n",
    ")"
   ]
  },
  {
   "cell_type": "code",
   "execution_count": 18,
   "id": "02d7a3df",
   "metadata": {},
   "outputs": [
    {
     "name": "stdout",
     "output_type": "stream",
     "text": [
      "Done.\n",
      "Done.\n"
     ]
    },
    {
     "data": {
      "text/plain": [
       "[]"
      ]
     },
     "execution_count": 18,
     "metadata": {},
     "output_type": "execute_result"
    }
   ],
   "source": [
    "%%sql sqlite:///./158739Assignment3\n",
    "\n",
    "DROP TABLE IF EXISTS Locations;\n",
    "\n",
    "CREATE TABLE \"Locations\" (\n",
    "\"LocationID\" INTEGER NOT NULL UNIQUE,\n",
    "\"Name\" TEXT,\n",
    "PRIMARY KEY(\"LocationID\" AUTOINCREMENT)\n",
    ")"
   ]
  },
  {
   "cell_type": "code",
   "execution_count": 21,
   "id": "68750597",
   "metadata": {},
   "outputs": [
    {
     "name": "stdout",
     "output_type": "stream",
     "text": [
      "Done.\n",
      "Done.\n"
     ]
    },
    {
     "data": {
      "text/plain": [
       "[]"
      ]
     },
     "execution_count": 21,
     "metadata": {},
     "output_type": "execute_result"
    }
   ],
   "source": [
    "\n",
    "%%sql sqlite:///./158739Assignment3\n",
    "\n",
    "DROP TABLE IF EXISTS Matches;\n",
    "    CREATE TABLE \"Matches\" (\n",
    "\"MatchID\"\tINTEGER NOT NULL UNIQUE,\n",
    "\"LocationID\"\tINTEGER,\n",
    "\"TournamentID\"\tINTEGER,\n",
    "\"CourtID\"\tINTEGER,\n",
    "\"SurfaceID\"\tINTEGER,\n",
    "\"RoundID\"\tINTEGER,\n",
    "\"BestOf\"\tINTEGER,\n",
    "\"WinLoseName\"\tTEXT,\n",
    "\"WLRank\"\tINTEGER,\n",
    "\"WPts\"\tINTEGER,\n",
    "\"WLsets\"\tINTEGER,\n",
    "\"Comment\"\tTEXT,\n",
    "\"AvgWL\"\tREAL,\n",
    "\"Win\"\tINTEGER,\n",
    "\"PlayerID\"\tINTEGER,\n",
    "FOREIGN KEY(\"PlayerID\") REFERENCES \"Players\"(\"PlayerID\"),\n",
    "PRIMARY KEY(\"MatchID\" AUTOINCREMENT)\n",
    ")\n",
    "\n"
   ]
  },
  {
   "cell_type": "code",
   "execution_count": 22,
   "id": "d5bcc934",
   "metadata": {},
   "outputs": [
    {
     "name": "stdout",
     "output_type": "stream",
     "text": [
      "Done.\n",
      "Done.\n"
     ]
    },
    {
     "data": {
      "text/plain": [
       "[]"
      ]
     },
     "execution_count": 22,
     "metadata": {},
     "output_type": "execute_result"
    }
   ],
   "source": [
    "%%sql sqlite:///./158739Assignment3\n",
    "\n",
    "DROP TABLE IF EXISTS PlayerMatches;\n",
    "CREATE TABLE \"PlayerMatches\" (\n",
    "\"PlayerMatchID\"\tINTEGER NOT NULL UNIQUE,\n",
    "\"PlayerID\"\tINTEGER,\n",
    "\"MatchID\"\tINTEGER,\n",
    "FOREIGN KEY(\"PlayerID\") REFERENCES \"Players\"(\"PlayerID\"),\n",
    "FOREIGN KEY(\"MatchID\") REFERENCES \"Matches\"(\"MatchID\"),\n",
    "PRIMARY KEY(\"PlayerMatchID\" AUTOINCREMENT)\n",
    ")\n",
    "\n",
    "\n"
   ]
  },
  {
   "cell_type": "code",
   "execution_count": 23,
   "id": "7c96a297",
   "metadata": {},
   "outputs": [
    {
     "name": "stdout",
     "output_type": "stream",
     "text": [
      "Done.\n",
      "Done.\n"
     ]
    },
    {
     "data": {
      "text/plain": [
       "[]"
      ]
     },
     "execution_count": 23,
     "metadata": {},
     "output_type": "execute_result"
    }
   ],
   "source": [
    "%%sql sqlite:///./158739Assignment3\n",
    "\n",
    "DROP TABLE IF EXISTS Players;\n",
    "CREATE TABLE \"Players\" (\n",
    "\"PlayerID\"\tINTEGER NOT NULL UNIQUE,\n",
    "\"Name\"\tTEXT,\n",
    "\"Ranking\"\tINTEGER,\n",
    "\"Points\"\tINTEGER,\n",
    "\"WealthyParents\"\tINTEGER,\n",
    "\"ParentOnWiki\"\tINTEGER,\n",
    "PRIMARY KEY(\"PlayerID\" AUTOINCREMENT)\n",
    ")\n",
    "\n"
   ]
  },
  {
   "cell_type": "code",
   "execution_count": 24,
   "id": "4c308d86",
   "metadata": {},
   "outputs": [
    {
     "name": "stdout",
     "output_type": "stream",
     "text": [
      "Done.\n",
      "Done.\n"
     ]
    },
    {
     "data": {
      "text/plain": [
       "[]"
      ]
     },
     "execution_count": 24,
     "metadata": {},
     "output_type": "execute_result"
    }
   ],
   "source": [
    "\n",
    "%%sql sqlite:///./158739Assignment3\n",
    "\n",
    "DROP TABLE IF EXISTS Rounds;\n",
    "CREATE TABLE \"Rounds\" (\n",
    "\"RoundID\"\tINTEGER NOT NULL UNIQUE,\n",
    "\"Name\"\tTEXT,\n",
    "PRIMARY KEY(\"RoundID\" AUTOINCREMENT)\n",
    ")\n",
    "\n",
    "\n"
   ]
  },
  {
   "cell_type": "code",
   "execution_count": 25,
   "id": "9bbfc85f",
   "metadata": {},
   "outputs": [
    {
     "name": "stdout",
     "output_type": "stream",
     "text": [
      "Done.\n",
      "Done.\n"
     ]
    },
    {
     "data": {
      "text/plain": [
       "[]"
      ]
     },
     "execution_count": 25,
     "metadata": {},
     "output_type": "execute_result"
    }
   ],
   "source": [
    "%%sql sqlite:///./158739Assignment3\n",
    "\n",
    "DROP TABLE IF EXISTS Surfaces;\n",
    "CREATE TABLE \"Surfaces\" (\n",
    "\"SurfaceID\"\tINTEGER NOT NULL UNIQUE,\n",
    "\"Type\"\tTEXT,\n",
    "PRIMARY KEY(\"SurfaceID\" AUTOINCREMENT)\n",
    ")\n"
   ]
  },
  {
   "cell_type": "code",
   "execution_count": 26,
   "id": "d3c88072",
   "metadata": {},
   "outputs": [
    {
     "name": "stdout",
     "output_type": "stream",
     "text": [
      "Done.\n",
      "Done.\n"
     ]
    },
    {
     "data": {
      "text/plain": [
       "[]"
      ]
     },
     "execution_count": 26,
     "metadata": {},
     "output_type": "execute_result"
    }
   ],
   "source": [
    "\n",
    "%%sql sqlite:///./158739Assignment3\n",
    "\n",
    "DROP TABLE IF EXISTS Tournaments;\n",
    "\n",
    "CREATE TABLE \"Tournaments\" (\n",
    "\"TournamentID\"\tINTEGER NOT NULL UNIQUE,\n",
    "\"Name\"\tTEXT,\n",
    "\"Tier\"\tTEXT,\n",
    "PRIMARY KEY(\"TournamentID\" AUTOINCREMENT)\n",
    ")"
   ]
  },
  {
   "cell_type": "markdown",
   "id": "de3c7283",
   "metadata": {},
   "source": [
    "## Import data into tables"
   ]
  },
  {
   "cell_type": "code",
   "execution_count": 3,
   "id": "582669f7",
   "metadata": {},
   "outputs": [
    {
     "data": {
      "text/html": [
       "<div>\n",
       "<style scoped>\n",
       "    .dataframe tbody tr th:only-of-type {\n",
       "        vertical-align: middle;\n",
       "    }\n",
       "\n",
       "    .dataframe tbody tr th {\n",
       "        vertical-align: top;\n",
       "    }\n",
       "\n",
       "    .dataframe thead th {\n",
       "        text-align: right;\n",
       "    }\n",
       "</style>\n",
       "<table border=\"1\" class=\"dataframe\">\n",
       "  <thead>\n",
       "    <tr style=\"text-align: right;\">\n",
       "      <th></th>\n",
       "      <th>WTA</th>\n",
       "      <th>Location</th>\n",
       "      <th>Tournament</th>\n",
       "      <th>Date</th>\n",
       "      <th>Tier</th>\n",
       "      <th>Court</th>\n",
       "      <th>Surface</th>\n",
       "      <th>Round</th>\n",
       "      <th>Best of</th>\n",
       "      <th>WinLoseName</th>\n",
       "      <th>...</th>\n",
       "      <th>Comment</th>\n",
       "      <th>AvgWL</th>\n",
       "      <th>ATP</th>\n",
       "      <th>Series</th>\n",
       "      <th>win</th>\n",
       "      <th>LPts</th>\n",
       "      <th>Name</th>\n",
       "      <th>Rank</th>\n",
       "      <th>wealthy_parents</th>\n",
       "      <th>parent_on_wiki</th>\n",
       "    </tr>\n",
       "  </thead>\n",
       "  <tbody>\n",
       "    <tr>\n",
       "      <th>0</th>\n",
       "      <td>1.0</td>\n",
       "      <td>Auckland</td>\n",
       "      <td>ASB Classic</td>\n",
       "      <td>31/12/2018</td>\n",
       "      <td>International</td>\n",
       "      <td>Outdoor</td>\n",
       "      <td>Hard</td>\n",
       "      <td>1st Round</td>\n",
       "      <td>3.0</td>\n",
       "      <td>Puig M.</td>\n",
       "      <td>...</td>\n",
       "      <td>Completed</td>\n",
       "      <td>1.37</td>\n",
       "      <td>0.0</td>\n",
       "      <td>0</td>\n",
       "      <td>True</td>\n",
       "      <td>0.0</td>\n",
       "      <td>NaN</td>\n",
       "      <td>0.0</td>\n",
       "      <td>Flase</td>\n",
       "      <td>False</td>\n",
       "    </tr>\n",
       "    <tr>\n",
       "      <th>1</th>\n",
       "      <td>1.0</td>\n",
       "      <td>Auckland</td>\n",
       "      <td>ASB Classic</td>\n",
       "      <td>31/12/2018</td>\n",
       "      <td>International</td>\n",
       "      <td>Outdoor</td>\n",
       "      <td>Hard</td>\n",
       "      <td>1st Round</td>\n",
       "      <td>3.0</td>\n",
       "      <td>Davis L.</td>\n",
       "      <td>...</td>\n",
       "      <td>Completed</td>\n",
       "      <td>1.50</td>\n",
       "      <td>0.0</td>\n",
       "      <td>0</td>\n",
       "      <td>True</td>\n",
       "      <td>0.0</td>\n",
       "      <td>Lauren Davis</td>\n",
       "      <td>58.0</td>\n",
       "      <td>False</td>\n",
       "      <td>True</td>\n",
       "    </tr>\n",
       "    <tr>\n",
       "      <th>2</th>\n",
       "      <td>1.0</td>\n",
       "      <td>Auckland</td>\n",
       "      <td>ASB Classic</td>\n",
       "      <td>31/12/2018</td>\n",
       "      <td>International</td>\n",
       "      <td>Outdoor</td>\n",
       "      <td>Hard</td>\n",
       "      <td>1st Round</td>\n",
       "      <td>3.0</td>\n",
       "      <td>Kuzmova V.</td>\n",
       "      <td>...</td>\n",
       "      <td>Completed</td>\n",
       "      <td>1.62</td>\n",
       "      <td>0.0</td>\n",
       "      <td>0</td>\n",
       "      <td>True</td>\n",
       "      <td>0.0</td>\n",
       "      <td>NaN</td>\n",
       "      <td>0.0</td>\n",
       "      <td>Flase</td>\n",
       "      <td>False</td>\n",
       "    </tr>\n",
       "    <tr>\n",
       "      <th>3</th>\n",
       "      <td>1.0</td>\n",
       "      <td>Auckland</td>\n",
       "      <td>ASB Classic</td>\n",
       "      <td>31/12/2018</td>\n",
       "      <td>International</td>\n",
       "      <td>Outdoor</td>\n",
       "      <td>Hard</td>\n",
       "      <td>1st Round</td>\n",
       "      <td>3.0</td>\n",
       "      <td>Bouchard E.</td>\n",
       "      <td>...</td>\n",
       "      <td>Completed</td>\n",
       "      <td>1.53</td>\n",
       "      <td>0.0</td>\n",
       "      <td>0</td>\n",
       "      <td>True</td>\n",
       "      <td>0.0</td>\n",
       "      <td>NaN</td>\n",
       "      <td>0.0</td>\n",
       "      <td>Flase</td>\n",
       "      <td>False</td>\n",
       "    </tr>\n",
       "    <tr>\n",
       "      <th>4</th>\n",
       "      <td>1.0</td>\n",
       "      <td>Auckland</td>\n",
       "      <td>ASB Classic</td>\n",
       "      <td>31/12/2018</td>\n",
       "      <td>International</td>\n",
       "      <td>Outdoor</td>\n",
       "      <td>Hard</td>\n",
       "      <td>1st Round</td>\n",
       "      <td>3.0</td>\n",
       "      <td>Sorribes Tormo S.</td>\n",
       "      <td>...</td>\n",
       "      <td>Completed</td>\n",
       "      <td>2.35</td>\n",
       "      <td>0.0</td>\n",
       "      <td>0</td>\n",
       "      <td>True</td>\n",
       "      <td>0.0</td>\n",
       "      <td>NaN</td>\n",
       "      <td>0.0</td>\n",
       "      <td>Flase</td>\n",
       "      <td>False</td>\n",
       "    </tr>\n",
       "  </tbody>\n",
       "</table>\n",
       "<p>5 rows × 23 columns</p>\n",
       "</div>"
      ],
      "text/plain": [
       "   WTA  Location   Tournament        Date           Tier    Court Surface  \\\n",
       "0  1.0  Auckland  ASB Classic  31/12/2018  International  Outdoor    Hard   \n",
       "1  1.0  Auckland  ASB Classic  31/12/2018  International  Outdoor    Hard   \n",
       "2  1.0  Auckland  ASB Classic  31/12/2018  International  Outdoor    Hard   \n",
       "3  1.0  Auckland  ASB Classic  31/12/2018  International  Outdoor    Hard   \n",
       "4  1.0  Auckland  ASB Classic  31/12/2018  International  Outdoor    Hard   \n",
       "\n",
       "       Round  Best of        WinLoseName  ...    Comment  AvgWL  ATP Series  \\\n",
       "0  1st Round      3.0            Puig M.  ...  Completed   1.37  0.0      0   \n",
       "1  1st Round      3.0           Davis L.  ...  Completed   1.50  0.0      0   \n",
       "2  1st Round      3.0         Kuzmova V.  ...  Completed   1.62  0.0      0   \n",
       "3  1st Round      3.0        Bouchard E.  ...  Completed   1.53  0.0      0   \n",
       "4  1st Round      3.0  Sorribes Tormo S.  ...  Completed   2.35  0.0      0   \n",
       "\n",
       "    win  LPts          Name  Rank  wealthy_parents parent_on_wiki  \n",
       "0  True   0.0           NaN   0.0            Flase          False  \n",
       "1  True   0.0  Lauren Davis  58.0            False           True  \n",
       "2  True   0.0           NaN   0.0            Flase          False  \n",
       "3  True   0.0           NaN   0.0            Flase          False  \n",
       "4  True   0.0           NaN   0.0            Flase          False  \n",
       "\n",
       "[5 rows x 23 columns]"
      ]
     },
     "execution_count": 3,
     "metadata": {},
     "output_type": "execute_result"
    }
   ],
   "source": [
    "# import CSV into a dataframe\n",
    "# or get top_players from csv, to reduce API calls\n",
    "player_odds_df = pd.read_csv(\"all_matches_player_odds.csv\", index_col=0)\n",
    "player_odds_df.head()\n"
   ]
  },
  {
   "cell_type": "code",
   "execution_count": 43,
   "id": "07b71f19",
   "metadata": {},
   "outputs": [
    {
     "name": "stdout",
     "output_type": "stream",
     "text": [
      " * sqlite:///./158739Assignment3\n",
      "2 rows affected.\n",
      " * sqlite:///./158739Assignment3\n",
      "1 rows affected.\n",
      " * sqlite:///./158739Assignment3\n",
      "1 rows affected.\n"
     ]
    }
   ],
   "source": [
    "# populate court table\n",
    "\n",
    "unique_values_df = pd.DataFrame(player_odds_df['Court'].drop_duplicates())\n",
    "unique_ids = pd.RangeIndex(start=1, stop=len(unique_values_df) + 1)\n",
    "unique_values_df.insert(0, 'ID', unique_ids)\n",
    "\n",
    "data = unique_values_df.values.tolist()\n",
    "\n",
    "%sql DELETE FROM Courts\n",
    "\n",
    "for row in data:\n",
    "    trow = tuple(row)\n",
    "    sql = \"INSERT INTO Courts VALUES {}\".format(trow)   # Use string formatting\n",
    "    %sql $sql"
   ]
  },
  {
   "cell_type": "code",
   "execution_count": 44,
   "id": "c043f758",
   "metadata": {},
   "outputs": [
    {
     "name": "stdout",
     "output_type": "stream",
     "text": [
      " * sqlite:///./158739Assignment3\n",
      "0 rows affected.\n",
      " * sqlite:///./158739Assignment3\n",
      "1 rows affected.\n",
      " * sqlite:///./158739Assignment3\n",
      "1 rows affected.\n",
      " * sqlite:///./158739Assignment3\n",
      "1 rows affected.\n",
      " * sqlite:///./158739Assignment3\n",
      "1 rows affected.\n",
      " * sqlite:///./158739Assignment3\n",
      "1 rows affected.\n",
      " * sqlite:///./158739Assignment3\n",
      "1 rows affected.\n",
      " * sqlite:///./158739Assignment3\n",
      "1 rows affected.\n",
      " * sqlite:///./158739Assignment3\n",
      "1 rows affected.\n",
      " * sqlite:///./158739Assignment3\n",
      "1 rows affected.\n",
      " * sqlite:///./158739Assignment3\n",
      "1 rows affected.\n",
      " * sqlite:///./158739Assignment3\n",
      "1 rows affected.\n",
      " * sqlite:///./158739Assignment3\n",
      "1 rows affected.\n",
      " * sqlite:///./158739Assignment3\n",
      "1 rows affected.\n",
      " * sqlite:///./158739Assignment3\n",
      "1 rows affected.\n",
      " * sqlite:///./158739Assignment3\n",
      "1 rows affected.\n",
      " * sqlite:///./158739Assignment3\n",
      "1 rows affected.\n",
      " * sqlite:///./158739Assignment3\n",
      "1 rows affected.\n",
      " * sqlite:///./158739Assignment3\n",
      "1 rows affected.\n",
      " * sqlite:///./158739Assignment3\n",
      "1 rows affected.\n",
      " * sqlite:///./158739Assignment3\n",
      "1 rows affected.\n",
      " * sqlite:///./158739Assignment3\n",
      "1 rows affected.\n",
      " * sqlite:///./158739Assignment3\n",
      "1 rows affected.\n",
      " * sqlite:///./158739Assignment3\n",
      "1 rows affected.\n",
      " * sqlite:///./158739Assignment3\n",
      "1 rows affected.\n",
      " * sqlite:///./158739Assignment3\n",
      "1 rows affected.\n",
      " * sqlite:///./158739Assignment3\n",
      "1 rows affected.\n",
      " * sqlite:///./158739Assignment3\n",
      "1 rows affected.\n",
      " * sqlite:///./158739Assignment3\n",
      "1 rows affected.\n",
      " * sqlite:///./158739Assignment3\n",
      "1 rows affected.\n",
      " * sqlite:///./158739Assignment3\n",
      "1 rows affected.\n",
      " * sqlite:///./158739Assignment3\n",
      "1 rows affected.\n",
      " * sqlite:///./158739Assignment3\n",
      "1 rows affected.\n",
      " * sqlite:///./158739Assignment3\n",
      "1 rows affected.\n",
      " * sqlite:///./158739Assignment3\n",
      "1 rows affected.\n",
      " * sqlite:///./158739Assignment3\n",
      "1 rows affected.\n",
      " * sqlite:///./158739Assignment3\n",
      "1 rows affected.\n",
      " * sqlite:///./158739Assignment3\n",
      "1 rows affected.\n",
      " * sqlite:///./158739Assignment3\n",
      "1 rows affected.\n",
      " * sqlite:///./158739Assignment3\n",
      "1 rows affected.\n",
      " * sqlite:///./158739Assignment3\n",
      "1 rows affected.\n",
      " * sqlite:///./158739Assignment3\n",
      "1 rows affected.\n",
      " * sqlite:///./158739Assignment3\n",
      "1 rows affected.\n",
      " * sqlite:///./158739Assignment3\n",
      "1 rows affected.\n",
      " * sqlite:///./158739Assignment3\n",
      "1 rows affected.\n",
      " * sqlite:///./158739Assignment3\n",
      "1 rows affected.\n",
      " * sqlite:///./158739Assignment3\n",
      "1 rows affected.\n",
      " * sqlite:///./158739Assignment3\n",
      "1 rows affected.\n",
      " * sqlite:///./158739Assignment3\n",
      "1 rows affected.\n",
      " * sqlite:///./158739Assignment3\n",
      "1 rows affected.\n",
      " * sqlite:///./158739Assignment3\n",
      "1 rows affected.\n",
      " * sqlite:///./158739Assignment3\n",
      "1 rows affected.\n",
      " * sqlite:///./158739Assignment3\n",
      "1 rows affected.\n",
      " * sqlite:///./158739Assignment3\n",
      "1 rows affected.\n",
      " * sqlite:///./158739Assignment3\n",
      "1 rows affected.\n",
      " * sqlite:///./158739Assignment3\n",
      "1 rows affected.\n",
      " * sqlite:///./158739Assignment3\n",
      "1 rows affected.\n",
      " * sqlite:///./158739Assignment3\n",
      "1 rows affected.\n",
      " * sqlite:///./158739Assignment3\n",
      "1 rows affected.\n",
      " * sqlite:///./158739Assignment3\n",
      "1 rows affected.\n",
      " * sqlite:///./158739Assignment3\n",
      "1 rows affected.\n",
      " * sqlite:///./158739Assignment3\n",
      "1 rows affected.\n",
      " * sqlite:///./158739Assignment3\n",
      "1 rows affected.\n",
      " * sqlite:///./158739Assignment3\n",
      "1 rows affected.\n",
      " * sqlite:///./158739Assignment3\n",
      "1 rows affected.\n",
      " * sqlite:///./158739Assignment3\n",
      "1 rows affected.\n",
      " * sqlite:///./158739Assignment3\n",
      "1 rows affected.\n",
      " * sqlite:///./158739Assignment3\n",
      "1 rows affected.\n",
      " * sqlite:///./158739Assignment3\n",
      "1 rows affected.\n",
      " * sqlite:///./158739Assignment3\n",
      "1 rows affected.\n",
      " * sqlite:///./158739Assignment3\n",
      "1 rows affected.\n",
      " * sqlite:///./158739Assignment3\n",
      "1 rows affected.\n",
      " * sqlite:///./158739Assignment3\n",
      "1 rows affected.\n",
      " * sqlite:///./158739Assignment3\n",
      "1 rows affected.\n",
      " * sqlite:///./158739Assignment3\n",
      "1 rows affected.\n",
      " * sqlite:///./158739Assignment3\n",
      "1 rows affected.\n",
      " * sqlite:///./158739Assignment3\n",
      "1 rows affected.\n",
      " * sqlite:///./158739Assignment3\n",
      "1 rows affected.\n",
      " * sqlite:///./158739Assignment3\n",
      "1 rows affected.\n",
      " * sqlite:///./158739Assignment3\n",
      "1 rows affected.\n",
      " * sqlite:///./158739Assignment3\n",
      "1 rows affected.\n",
      " * sqlite:///./158739Assignment3\n",
      "1 rows affected.\n",
      " * sqlite:///./158739Assignment3\n",
      "1 rows affected.\n",
      " * sqlite:///./158739Assignment3\n",
      "1 rows affected.\n",
      " * sqlite:///./158739Assignment3\n",
      "1 rows affected.\n",
      " * sqlite:///./158739Assignment3\n",
      "1 rows affected.\n",
      " * sqlite:///./158739Assignment3\n",
      "1 rows affected.\n",
      " * sqlite:///./158739Assignment3\n",
      "1 rows affected.\n",
      " * sqlite:///./158739Assignment3\n",
      "1 rows affected.\n",
      " * sqlite:///./158739Assignment3\n",
      "1 rows affected.\n",
      " * sqlite:///./158739Assignment3\n",
      "1 rows affected.\n",
      " * sqlite:///./158739Assignment3\n",
      "1 rows affected.\n",
      " * sqlite:///./158739Assignment3\n",
      "1 rows affected.\n",
      " * sqlite:///./158739Assignment3\n",
      "1 rows affected.\n",
      " * sqlite:///./158739Assignment3\n",
      "1 rows affected.\n",
      " * sqlite:///./158739Assignment3\n",
      "1 rows affected.\n",
      " * sqlite:///./158739Assignment3\n",
      "1 rows affected.\n",
      " * sqlite:///./158739Assignment3\n",
      "1 rows affected.\n",
      " * sqlite:///./158739Assignment3\n",
      "1 rows affected.\n",
      " * sqlite:///./158739Assignment3\n",
      "1 rows affected.\n",
      " * sqlite:///./158739Assignment3\n",
      "1 rows affected.\n",
      " * sqlite:///./158739Assignment3\n",
      "1 rows affected.\n",
      " * sqlite:///./158739Assignment3\n",
      "1 rows affected.\n",
      " * sqlite:///./158739Assignment3\n",
      "1 rows affected.\n",
      " * sqlite:///./158739Assignment3\n",
      "1 rows affected.\n",
      " * sqlite:///./158739Assignment3\n",
      "1 rows affected.\n",
      " * sqlite:///./158739Assignment3\n",
      "1 rows affected.\n",
      " * sqlite:///./158739Assignment3\n",
      "1 rows affected.\n",
      " * sqlite:///./158739Assignment3\n",
      "1 rows affected.\n",
      " * sqlite:///./158739Assignment3\n",
      "1 rows affected.\n",
      " * sqlite:///./158739Assignment3\n",
      "1 rows affected.\n",
      " * sqlite:///./158739Assignment3\n",
      "1 rows affected.\n",
      " * sqlite:///./158739Assignment3\n",
      "1 rows affected.\n",
      " * sqlite:///./158739Assignment3\n",
      "1 rows affected.\n",
      " * sqlite:///./158739Assignment3\n",
      "1 rows affected.\n",
      " * sqlite:///./158739Assignment3\n",
      "1 rows affected.\n",
      " * sqlite:///./158739Assignment3\n",
      "1 rows affected.\n",
      " * sqlite:///./158739Assignment3\n",
      "1 rows affected.\n",
      " * sqlite:///./158739Assignment3\n",
      "1 rows affected.\n",
      " * sqlite:///./158739Assignment3\n",
      "1 rows affected.\n",
      " * sqlite:///./158739Assignment3\n",
      "1 rows affected.\n",
      " * sqlite:///./158739Assignment3\n",
      "1 rows affected.\n",
      " * sqlite:///./158739Assignment3\n",
      "1 rows affected.\n",
      " * sqlite:///./158739Assignment3\n",
      "1 rows affected.\n",
      " * sqlite:///./158739Assignment3\n",
      "1 rows affected.\n",
      " * sqlite:///./158739Assignment3\n",
      "1 rows affected.\n",
      " * sqlite:///./158739Assignment3\n",
      "1 rows affected.\n",
      " * sqlite:///./158739Assignment3\n",
      "1 rows affected.\n",
      " * sqlite:///./158739Assignment3\n",
      "1 rows affected.\n",
      " * sqlite:///./158739Assignment3\n",
      "1 rows affected.\n",
      " * sqlite:///./158739Assignment3\n",
      "1 rows affected.\n",
      " * sqlite:///./158739Assignment3\n",
      "1 rows affected.\n",
      " * sqlite:///./158739Assignment3\n",
      "1 rows affected.\n",
      " * sqlite:///./158739Assignment3\n",
      "1 rows affected.\n",
      " * sqlite:///./158739Assignment3\n",
      "1 rows affected.\n",
      " * sqlite:///./158739Assignment3\n",
      "1 rows affected.\n"
     ]
    }
   ],
   "source": [
    "# populate Locations table\n",
    "unique_values_df = pd.DataFrame(player_odds_df['Location'].drop_duplicates())\n",
    "unique_ids = pd.RangeIndex(start=1, stop=len(unique_values_df) + 1)\n",
    "unique_values_df.insert(0, 'ID', unique_ids)\n",
    "\n",
    "data = unique_values_df.values.tolist()\n",
    "\n",
    "%sql DELETE FROM Locations\n",
    "\n",
    "for row in data:\n",
    "    trow = tuple(row)\n",
    "    sql = \"INSERT INTO Locations VALUES {}\".format(trow)   # Use string formatting\n",
    "    %sql $sql\n",
    "    "
   ]
  }
 ],
 "metadata": {
  "kernelspec": {
   "display_name": "Python 3 (ipykernel)",
   "language": "python",
   "name": "python3"
  },
  "language_info": {
   "codemirror_mode": {
    "name": "ipython",
    "version": 3
   },
   "file_extension": ".py",
   "mimetype": "text/x-python",
   "name": "python",
   "nbconvert_exporter": "python",
   "pygments_lexer": "ipython3",
   "version": "3.9.13"
  }
 },
 "nbformat": 4,
 "nbformat_minor": 5
}
