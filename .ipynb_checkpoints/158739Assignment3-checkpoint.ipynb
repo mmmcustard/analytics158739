{
 "cells": [
  {
   "cell_type": "code",
   "execution_count": 1,
   "id": "28e87b50",
   "metadata": {},
   "outputs": [
    {
     "data": {
      "text/html": [
       "<style>.container { width:85% !important; }</style>"
      ],
      "text/plain": [
       "<IPython.core.display.HTML object>"
      ]
     },
     "metadata": {},
     "output_type": "display_data"
    }
   ],
   "source": [
    "from IPython.display import display, HTML\n",
    "display(HTML(\"<style>.container { width:85% !important; }</style>\"))"
   ]
  },
  {
   "cell_type": "code",
   "execution_count": 3,
   "id": "8130177a",
   "metadata": {},
   "outputs": [],
   "source": [
    "%load_ext sql"
   ]
  },
  {
   "cell_type": "markdown",
   "id": "236a0fa4",
   "metadata": {},
   "source": [
    "## [insert name] Database Schema"
   ]
  },
  {
   "cell_type": "markdown",
   "id": "bc7f927c",
   "metadata": {},
   "source": [
    "![dbSchema](159739A3Schema.jpg)"
   ]
  },
  {
   "cell_type": "markdown",
   "id": "b37e068b",
   "metadata": {},
   "source": [
    "### High Level Description of [insert Name] Database"
   ]
  },
  {
   "cell_type": "markdown",
   "id": "95ad3059",
   "metadata": {},
   "source": [
    "#### Players\n",
    "Stores information about tennis players, including their unique PlayerID, Name, Ranking, Points, and details about whether they have wealthy parents and if their parents are mentioned on Wikipedia.\n",
    "\n",
    "#### Matches\n",
    "This table contains details about individual tennis matches, including MatchID, LocationID, TournamentID, CourtID, SurfaceID, RoundID, BestOf (the number of sets required to win the match), WinLoseName (the players' name), WLRank (the opponent's ranking), WPts (the opponent's ranking points), WLsets (the number of sets won and lost), Comment, AvgWL (average winning likelihood), and Win (indicating if the player won the match).\n",
    "\n",
    "#### Locations\n",
    "Represents the locations where tennis matches take place. It includes LocationID and Name.\n",
    "\n",
    "#### Tournaments\n",
    "Stores information about tennis tournaments; TournamentID, Name, and Tier (the level or category of the tournament, such as International, Grand Slam, etc.).\n",
    "\n",
    "#### Courts\n",
    "Describes the types of courts used in tennis matches. It includes CourtID and Type (e.g., Outdoor, Indoor).\n",
    "\n",
    "#### Surfaces\n",
    "Contains information about the playing surfaces used in tennis matches, such as SurfaceID and Type (e.g., Hard, Clay, Grass).\n",
    "\n",
    "#### Rounds\n",
    "Represents the different rounds or stages within a tennis tournament. It includes RoundID and Name (e.g., 1st Round, Quarterfinals, Finals).\n",
    "\n",
    "#### PlayerMatches\n",
    "This table establishes the one-to-many relationships between players and matches. It includes PlayerMatchID (a unique identifier for the relationship), PlayerID (referencing the Players table), and MatchID (referencing the Matches table."
   ]
  },
  {
   "cell_type": "markdown",
   "id": "146e220f",
   "metadata": {},
   "source": [
    "## Connect to DB and Create Tables"
   ]
  },
  {
   "cell_type": "code",
   "execution_count": 4,
   "id": "db12e781",
   "metadata": {},
   "outputs": [],
   "source": [
    "%sql sqlite:///./158739Assignment3"
   ]
  },
  {
   "cell_type": "code",
   "execution_count": 19,
   "id": "f981e0cd",
   "metadata": {},
   "outputs": [
    {
     "name": "stdout",
     "output_type": "stream",
     "text": [
      "Done.\n",
      "Done.\n"
     ]
    },
    {
     "data": {
      "text/plain": [
       "[]"
      ]
     },
     "execution_count": 19,
     "metadata": {},
     "output_type": "execute_result"
    }
   ],
   "source": [
    "%%sql sqlite:///./158739Assignment3\n",
    "\n",
    "DROP TABLE IF EXISTS Courts;\n",
    "CREATE TABLE \"Courts\" (\n",
    "\"CourtID\" INTEGER NOT NULL UNIQUE,\n",
    "\"Type\" TEXT,\n",
    "PRIMARY KEY(\"CourtID\" AUTOINCREMENT)\n",
    ")"
   ]
  },
  {
   "cell_type": "code",
   "execution_count": 18,
   "id": "02d7a3df",
   "metadata": {},
   "outputs": [
    {
     "name": "stdout",
     "output_type": "stream",
     "text": [
      "Done.\n",
      "Done.\n"
     ]
    },
    {
     "data": {
      "text/plain": [
       "[]"
      ]
     },
     "execution_count": 18,
     "metadata": {},
     "output_type": "execute_result"
    }
   ],
   "source": [
    "%%sql sqlite:///./158739Assignment3\n",
    "\n",
    "DROP TABLE IF EXISTS Locations;\n",
    "\n",
    "CREATE TABLE \"Locations\" (\n",
    "\"LocationID\" INTEGER NOT NULL UNIQUE,\n",
    "\"Name\" TEXT,\n",
    "PRIMARY KEY(\"LocationID\" AUTOINCREMENT)\n",
    ")"
   ]
  },
  {
   "cell_type": "code",
   "execution_count": 21,
   "id": "68750597",
   "metadata": {},
   "outputs": [
    {
     "name": "stdout",
     "output_type": "stream",
     "text": [
      "Done.\n",
      "Done.\n"
     ]
    },
    {
     "data": {
      "text/plain": [
       "[]"
      ]
     },
     "execution_count": 21,
     "metadata": {},
     "output_type": "execute_result"
    }
   ],
   "source": [
    "\n",
    "%%sql sqlite:///./158739Assignment3\n",
    "\n",
    "DROP TABLE IF EXISTS Matches;\n",
    "    CREATE TABLE \"Matches\" (\n",
    "\"MatchID\"\tINTEGER NOT NULL UNIQUE,\n",
    "\"LocationID\"\tINTEGER,\n",
    "\"TournamentID\"\tINTEGER,\n",
    "\"CourtID\"\tINTEGER,\n",
    "\"SurfaceID\"\tINTEGER,\n",
    "\"RoundID\"\tINTEGER,\n",
    "\"BestOf\"\tINTEGER,\n",
    "\"WinLoseName\"\tTEXT,\n",
    "\"WLRank\"\tINTEGER,\n",
    "\"WPts\"\tINTEGER,\n",
    "\"WLsets\"\tINTEGER,\n",
    "\"Comment\"\tTEXT,\n",
    "\"AvgWL\"\tREAL,\n",
    "\"Win\"\tINTEGER,\n",
    "\"PlayerID\"\tINTEGER,\n",
    "FOREIGN KEY(\"PlayerID\") REFERENCES \"Players\"(\"PlayerID\"),\n",
    "PRIMARY KEY(\"MatchID\" AUTOINCREMENT)\n",
    ")\n",
    "\n"
   ]
  },
  {
   "cell_type": "code",
   "execution_count": 22,
   "id": "d5bcc934",
   "metadata": {},
   "outputs": [
    {
     "name": "stdout",
     "output_type": "stream",
     "text": [
      "Done.\n",
      "Done.\n"
     ]
    },
    {
     "data": {
      "text/plain": [
       "[]"
      ]
     },
     "execution_count": 22,
     "metadata": {},
     "output_type": "execute_result"
    }
   ],
   "source": [
    "%%sql sqlite:///./158739Assignment3\n",
    "\n",
    "DROP TABLE IF EXISTS PlayerMatches;\n",
    "CREATE TABLE \"PlayerMatches\" (\n",
    "\"PlayerMatchID\"\tINTEGER NOT NULL UNIQUE,\n",
    "\"PlayerID\"\tINTEGER,\n",
    "\"MatchID\"\tINTEGER,\n",
    "FOREIGN KEY(\"PlayerID\") REFERENCES \"Players\"(\"PlayerID\"),\n",
    "FOREIGN KEY(\"MatchID\") REFERENCES \"Matches\"(\"MatchID\"),\n",
    "PRIMARY KEY(\"PlayerMatchID\" AUTOINCREMENT)\n",
    ")\n",
    "\n",
    "\n"
   ]
  },
  {
   "cell_type": "code",
   "execution_count": 23,
   "id": "7c96a297",
   "metadata": {},
   "outputs": [
    {
     "name": "stdout",
     "output_type": "stream",
     "text": [
      "Done.\n",
      "Done.\n"
     ]
    },
    {
     "data": {
      "text/plain": [
       "[]"
      ]
     },
     "execution_count": 23,
     "metadata": {},
     "output_type": "execute_result"
    }
   ],
   "source": [
    "%%sql sqlite:///./158739Assignment3\n",
    "\n",
    "DROP TABLE IF EXISTS Players;\n",
    "CREATE TABLE \"Players\" (\n",
    "\"PlayerID\"\tINTEGER NOT NULL UNIQUE,\n",
    "\"Name\"\tTEXT,\n",
    "\"Ranking\"\tINTEGER,\n",
    "\"Points\"\tINTEGER,\n",
    "\"WealthyParents\"\tINTEGER,\n",
    "\"ParentOnWiki\"\tINTEGER,\n",
    "PRIMARY KEY(\"PlayerID\" AUTOINCREMENT)\n",
    ")\n",
    "\n"
   ]
  },
  {
   "cell_type": "code",
   "execution_count": 24,
   "id": "4c308d86",
   "metadata": {},
   "outputs": [
    {
     "name": "stdout",
     "output_type": "stream",
     "text": [
      "Done.\n",
      "Done.\n"
     ]
    },
    {
     "data": {
      "text/plain": [
       "[]"
      ]
     },
     "execution_count": 24,
     "metadata": {},
     "output_type": "execute_result"
    }
   ],
   "source": [
    "\n",
    "%%sql sqlite:///./158739Assignment3\n",
    "\n",
    "DROP TABLE IF EXISTS Rounds;\n",
    "CREATE TABLE \"Rounds\" (\n",
    "\"RoundID\"\tINTEGER NOT NULL UNIQUE,\n",
    "\"Name\"\tTEXT,\n",
    "PRIMARY KEY(\"RoundID\" AUTOINCREMENT)\n",
    ")\n",
    "\n",
    "\n"
   ]
  },
  {
   "cell_type": "code",
   "execution_count": 25,
   "id": "9bbfc85f",
   "metadata": {},
   "outputs": [
    {
     "name": "stdout",
     "output_type": "stream",
     "text": [
      "Done.\n",
      "Done.\n"
     ]
    },
    {
     "data": {
      "text/plain": [
       "[]"
      ]
     },
     "execution_count": 25,
     "metadata": {},
     "output_type": "execute_result"
    }
   ],
   "source": [
    "%%sql sqlite:///./158739Assignment3\n",
    "\n",
    "DROP TABLE IF EXISTS Surfaces;\n",
    "CREATE TABLE \"Surfaces\" (\n",
    "\"SurfaceID\"\tINTEGER NOT NULL UNIQUE,\n",
    "\"Type\"\tTEXT,\n",
    "PRIMARY KEY(\"SurfaceID\" AUTOINCREMENT)\n",
    ")\n"
   ]
  },
  {
   "cell_type": "code",
   "execution_count": 26,
   "id": "d3c88072",
   "metadata": {},
   "outputs": [
    {
     "name": "stdout",
     "output_type": "stream",
     "text": [
      "Done.\n",
      "Done.\n"
     ]
    },
    {
     "data": {
      "text/plain": [
       "[]"
      ]
     },
     "execution_count": 26,
     "metadata": {},
     "output_type": "execute_result"
    }
   ],
   "source": [
    "\n",
    "%%sql sqlite:///./158739Assignment3\n",
    "\n",
    "DROP TABLE IF EXISTS Tournaments;\n",
    "\n",
    "CREATE TABLE \"Tournaments\" (\n",
    "\"TournamentID\"\tINTEGER NOT NULL UNIQUE,\n",
    "\"Name\"\tTEXT,\n",
    "\"Tier\"\tTEXT,\n",
    "PRIMARY KEY(\"TournamentID\" AUTOINCREMENT)\n",
    ")"
   ]
  },
  {
   "cell_type": "code",
   "execution_count": null,
   "id": "0182f05f",
   "metadata": {},
   "outputs": [],
   "source": []
  }
 ],
 "metadata": {
  "kernelspec": {
   "display_name": "Python 3 (ipykernel)",
   "language": "python",
   "name": "python3"
  },
  "language_info": {
   "codemirror_mode": {
    "name": "ipython",
    "version": 3
   },
   "file_extension": ".py",
   "mimetype": "text/x-python",
   "name": "python",
   "nbconvert_exporter": "python",
   "pygments_lexer": "ipython3",
   "version": "3.9.13"
  }
 },
 "nbformat": 4,
 "nbformat_minor": 5
}
