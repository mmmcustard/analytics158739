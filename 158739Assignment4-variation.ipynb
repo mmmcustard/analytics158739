{
 "cells": [
  {
   "cell_type": "code",
   "execution_count": null,
   "id": "6046cd3e",
   "metadata": {},
   "outputs": [],
   "source": [
    "#pip install openai"
   ]
  },
  {
   "cell_type": "code",
   "execution_count": 2,
   "id": "a0db5ff0",
   "metadata": {},
   "outputs": [
    {
     "data": {
      "text/html": [
       "<style>.container { width:90% !important; }</style>"
      ],
      "text/plain": [
       "<IPython.core.display.HTML object>"
      ]
     },
     "metadata": {},
     "output_type": "display_data"
    }
   ],
   "source": [
    "from IPython.display import display, HTML\n",
    "display(HTML(\"<style>.container { width:90% !important; }</style>\"))\n",
    "\n",
    "import os\n",
    "import pandas as pd\n",
    "import numpy as np\n",
    "import matplotlib.pyplot as plt\n",
    "from typing import Union\n",
    "import seaborn as sns\n",
    "import datetime\n",
    "import requests\n",
    "from bs4 import BeautifulSoup"
   ]
  },
  {
   "cell_type": "markdown",
   "id": "ed603f20",
   "metadata": {},
   "source": [
    "# 158739 Assignment 4 - Does having wealthy parents make you a better tennis player?\n",
    "\n",
    "#### Student name: James Evans and Hayley Wikeepa\n",
    "#### Student ID: 12211872\n",
    "\n",
    "\n",
    "# Introduction\n",
    "\n",
    "\n",
    "\n",
    "Does having wealth parent make you a better tennis player? There are lots of ways to analise this. We can look at if the current world top tennis players are mostly from wealth families. We can look if being from a wealthy family makes it more likely you will win when playing profesional tennis. Assuming this is true we can look if having wealthy parents is \"priced in\" to the betting odds when betting on tennis matches.\n",
    "\n",
    "Two things that make us wonder about tennis and wealthy parents. Firstly there are two of the top 100 woman tennis players have billionare parent. Second a tweet one of us saw wondering why so many formula one drivers fathers have hyperlinks in wikipedia (hinting that you need a rich father to become a formular 1 driver).\n",
    "\n",
    "\n",
    "\n",
    "\n",
    "\n",
    "#### Datasets used:\n",
    "- ATP (Mens profesional tennis assossiation) and WTA (Womens profesional tennis assossiation) tennis player lists\n",
    "- Tennis results from the past ?? years\n",
    "- Tennis betting odds from the last ?? years\n",
    "- List of tennis players that have wiki pages, and a boolean if there parents have wiki pages\n",
    "- chat gpt answers to the question \"did this tennis player have wealthy parents?\"\n",
    "\n",
    "\n",
    "#### Dataset sources: \n",
    "\n",
    "- \n",
    "- \n",
    "\n",
    "\n",
    "### Research Questions\n",
    "\n",
    "1. Is having wealth parents a predictor of becoming a profectional tennis player?\n",
    "2. Is having wealth parents a predictor of future sucssess as a profectional tennis player?\n",
    "3. Is there money to be made by taking into account if a tennis player has wealth parents, when betting on a tennis mathches?\n",
    "\n",
    "\n",
    "### Executive Summary\n",
    "\n"
   ]
  },
  {
   "cell_type": "markdown",
   "id": "74cee07d",
   "metadata": {},
   "source": [
    "## What do we need to achive?\n",
    "\n",
    "\n",
    "### Ideas of what we could find out\n",
    "\n",
    "First we could see if there is a disporportinate amount of pro tennis players that have wealth parents (I am sure there will be).\n",
    "\n",
    "Would could see if there is a correlation between rich partents and tennis success when playing as a pro (look at results from pro matches). \n",
    "we could look at win % vs wealthy parents\n",
    "\n",
    "If answer is yes, wealth parents make you play better as a pro, then we can look to see if this is taken into account in the betting odds.\n",
    "For each player, we could work out how much you would have won / lost, if you had bet a constant amount on that player, over there last x number of games. We can then have a way of saying who is a profitable player and who is an unprofitable player to bet on. We can then see if this correlates with if they have rich/famous parents.\n",
    "\n",
    "\n",
    "### Marking info\n",
    "\n",
    "- Data Acquisition -     20\n",
    "    * Diversity of sources (at least one must be dynamic – full marks for using both APIs and web scraping – penalties will be applied for re-using examples from class)\n",
    "    * Appropriate use of merging and concatenation.\n",
    "    \n",
    "- Data Wrangling and EDA  -  30\n",
    "- Data Analysis -  35\n",
    "- Originality and challenge 15\n",
    "\n",
    "BONUS\n",
    "- Big Data ProcessingTechniques - 5\n",
    "\n",
    "### Other notes from the brief\n",
    "Clearly introduce your problem domain, articulate your research questions and provide an executive summary at the beginning. Follow the provided Jupyter notebook template.\n",
    "You must document and explain the reasoning behind the coding steps you are taking and provide explanations of all your graphs and tables as is appropriate. Make sure you label all aspects of your graphs.\n",
    "The activities listed under the five stages in the workflow diagram above are a guide only. This means that operations like group-by statements as well as pivot tables could be a part of the ‘Data Wrangling’ phase as EDA, and not only a part of the data analysis phase. Finally, please run your report through an external spell checker and feel free to use ChatGPT judiciously to help you as discussed in class.\n",
    "\n"
   ]
  },
  {
   "cell_type": "code",
   "execution_count": 2,
   "id": "64d3793d",
   "metadata": {},
   "outputs": [],
   "source": [
    "# headers for API\n",
    "\n",
    "headers = {\n",
    "\t\"X-RapidAPI-Key\": \"8556d4b2f5mshddae5c2b7778158p1b7b83jsn131f0acf695b\",\n",
    "\t\"X-RapidAPI-Host\": \"ultimate-tennis1.p.rapidapi.com\"\n",
    "}"
   ]
  },
  {
   "cell_type": "markdown",
   "id": "d2cf8edc",
   "metadata": {},
   "source": [
    "### All API calls"
   ]
  },
  {
   "cell_type": "markdown",
   "id": "ab0630d6",
   "metadata": {},
   "source": [
    "#### Get all ATP tournament results"
   ]
  },
  {
   "cell_type": "code",
   "execution_count": 3,
   "id": "4960764b",
   "metadata": {},
   "outputs": [],
   "source": [
    "# Get all ATP results from 2019 - 2022 for all tournaments into one dataframe\n",
    "\n",
    "base_url = \"https://ultimate-tennis1.p.rapidapi.com/tournament_list/atp/{year}/atpgs\"\n",
    "\n",
    "# get all ATP tounament results\n",
    "ATP_tornaments_list = []\n",
    "\n",
    "for year in range(datetime.datetime.now().year - 4, datetime.datetime.now().year):\n",
    "    url = base_url.format(year=year)\n",
    "    response = requests.get(url, headers=headers)\n",
    "    \n",
    "    if response.status_code == 200:\n",
    "        data = response.json()\n",
    "        df = pd.DataFrame(data['Tournaments'])\n",
    "        ATP_tornaments_list.append(df)\n",
    "    else:\n",
    "        print(f\"Error retrieving data for year {year}. Status code: {response.status_code}\")"
   ]
  },
  {
   "cell_type": "markdown",
   "id": "ce16d9d3",
   "metadata": {},
   "source": [
    "#### Get all WTA tournament results"
   ]
  },
  {
   "cell_type": "code",
   "execution_count": 30,
   "id": "145c8eaa",
   "metadata": {},
   "outputs": [],
   "source": [
    "# Get all WTA results from 2019 - 2022 for all tournaments into one dataframe\n",
    "\n",
    "base_url = \"https://ultimate-tennis1.p.rapidapi.com/tournament_list/wta/{year}\"\n",
    "\n",
    "# get all ATP tounament results\n",
    "WTA_tornaments_list = []\n",
    "\n",
    "for year in range(datetime.datetime.now().year - 4, datetime.datetime.now().year):\n",
    "    url = base_url.format(year=year)\n",
    "    response = requests.get(url, headers=headers)\n",
    "    \n",
    "    if response.status_code == 200:\n",
    "        data = response.json()\n",
    "        df = pd.DataFrame(data['Tournaments'])\n",
    "        WTA_tornaments_list.append(df)\n",
    "    else:\n",
    "        print(f\"Error retrieving data for year {year}. Status code: {response.status_code}\")\n"
   ]
  },
  {
   "cell_type": "markdown",
   "id": "18277ebb",
   "metadata": {},
   "source": [
    "#### All ATP player details and statistics"
   ]
  },
  {
   "cell_type": "code",
   "execution_count": 7,
   "id": "c2e80cc8",
   "metadata": {},
   "outputs": [],
   "source": [
    "# All ATP player details and statistics\n",
    "\n",
    "url = \"https://ultimate-tennis1.p.rapidapi.com/global_players_stats/aces/all/all\"\n",
    "\n",
    "ATP_player_stats_response = requests.get(url, headers=headers)"
   ]
  },
  {
   "cell_type": "markdown",
   "id": "d51004b2",
   "metadata": {},
   "source": [
    "#### All WTA player details and statistics"
   ]
  },
  {
   "cell_type": "code",
   "execution_count": 8,
   "id": "d736efb5",
   "metadata": {},
   "outputs": [],
   "source": [
    "# all WTA player details\n",
    "\n",
    "url = \"https://ultimate-tennis1.p.rapidapi.com/rankings/wta/singles/200/current\"\n",
    "\n",
    "wta_rank_response = requests.get(url, headers=headers)"
   ]
  },
  {
   "cell_type": "markdown",
   "id": "26e3cc04",
   "metadata": {},
   "source": [
    "### DataFrame edits"
   ]
  },
  {
   "cell_type": "markdown",
   "id": "684858a2",
   "metadata": {},
   "source": [
    "#### ATP tournament results to DataFrame"
   ]
  },
  {
   "cell_type": "code",
   "execution_count": 119,
   "id": "b8d2ed0a",
   "metadata": {},
   "outputs": [],
   "source": [
    "# combine all dfs in ATP_tournaments list        \n",
    "ATP_tornaments = pd.concat(ATP_tornaments_list)\n",
    "ATP_tornaments = ATP_tornaments.reset_index(drop=True)       \n",
    "\n",
    "# normalise winners column\n",
    "winners_df = pd.json_normalize(ATP_tornaments['Winners'])\n",
    "temp_ATP_df = pd.concat([ATP_tornaments, winners_df], axis=1)\n",
    "ATP_tornaments = temp_ATP_df.drop('Winners', axis=1)\n",
    "\n",
    "# normalise surfaces column to match wta tournaments df\n",
    "surfaces_df = ATP_tornaments['Surface'].str.split(' ', expand=True)\n",
    "surfaces_df.columns = ['Outdoor/Indoor', 'surface']\n",
    "temp_df = pd.concat([ATP_tornaments, surfaces_df], axis=1)\n",
    "ATP_tornaments = temp_df.drop('Surface', axis=1)\n",
    "\n",
    "ATP_tornaments['year'] = pd.to_datetime(ATP_tornaments['Timestamp']).dt.year\n",
    "ATP_tornaments = ATP_tornaments.drop(['Timestamp', 'doubles'], axis=1)\n",
    "ATP_tornaments.rename(columns={'Total Prize Money': 'prizeMoney'}, inplace=True)"
   ]
  },
  {
   "cell_type": "code",
   "execution_count": 120,
   "id": "a721f2c7",
   "metadata": {},
   "outputs": [],
   "source": [
    "# create unique index for tornaments - ID was not unique\n",
    "ATP_tornaments['index'] = ATP_tornaments['ID'].astype(str) + '_' + ATP_tornaments['Location'].astype(str)\n",
    "ATP_tornaments.set_index('index', inplace=True)"
   ]
  },
  {
   "cell_type": "markdown",
   "id": "607c8a55",
   "metadata": {},
   "source": [
    "#### WTA tournament results to DataFrame"
   ]
  },
  {
   "cell_type": "code",
   "execution_count": 121,
   "id": "cbcd92ce",
   "metadata": {},
   "outputs": [],
   "source": [
    "# combine all dfs in WTA_tournaments list        \n",
    "wta_tournaments = pd.concat(WTA_tornaments_list)\n",
    "wta_tournaments = wta_tournaments.reset_index(drop=True)       "
   ]
  },
  {
   "cell_type": "code",
   "execution_count": 122,
   "id": "6f12084e",
   "metadata": {},
   "outputs": [],
   "source": [
    "wta_tournaments['prizeMoney'] = wta_tournaments['prizeMoney'].apply(lambda x: '${:,.2f}'.format(x))\n",
    "fullnames_df = wta_tournaments['Full Name'].str.split(' - ', expand=True)\n",
    "fullnames_df.columns = ['Tournament Name', 'Location']\n",
    "temp_df = pd.concat([wta_tournaments, fullnames_df], axis=1)\n",
    "\n",
    "# drop unused columns\n",
    "wta_tournaments = wta_tournaments.drop(['endDate', 'startDate', 'category', 'city', 'name',\n",
    "                                        'country', 'doublesDrawSize', 'prizeMoneyCurrency', 'singlesDrawSize'], axis=1)\n",
    "\n",
    "# normalise Full Names column\n",
    "fullnames_df = wta_tournaments['Full Name'].str.split(' - ', expand=True)\n",
    "fullnames_df.columns = ['Tournament Name', 'Location']\n",
    "temp_df = pd.concat([wta_tournaments, fullnames_df], axis=1)\n",
    "wta_tournaments = temp_df.drop(['Full Name'], axis=1)"
   ]
  },
  {
   "cell_type": "code",
   "execution_count": 123,
   "id": "ea6cb2de",
   "metadata": {},
   "outputs": [],
   "source": [
    "# create unique index for tornaments - ID was not unique\n",
    "wta_tournaments['index'] = wta_tournaments['ID'].astype(str) + '_' + wta_tournaments['Location'].astype(str)\n",
    "wta_tournaments.set_index('index', inplace=True)"
   ]
  },
  {
   "cell_type": "markdown",
   "id": "74c75f7d",
   "metadata": {},
   "source": [
    "#### join tournaments into one dataframe"
   ]
  },
  {
   "cell_type": "code",
   "execution_count": 141,
   "id": "757cbdac",
   "metadata": {},
   "outputs": [
    {
     "data": {
      "text/html": [
       "<div>\n",
       "<style scoped>\n",
       "    .dataframe tbody tr th:only-of-type {\n",
       "        vertical-align: middle;\n",
       "    }\n",
       "\n",
       "    .dataframe tbody tr th {\n",
       "        vertical-align: top;\n",
       "    }\n",
       "\n",
       "    .dataframe thead th {\n",
       "        text-align: right;\n",
       "    }\n",
       "</style>\n",
       "<table border=\"1\" class=\"dataframe\">\n",
       "  <thead>\n",
       "    <tr style=\"text-align: right;\">\n",
       "      <th></th>\n",
       "      <th>ID</th>\n",
       "      <th>Location</th>\n",
       "      <th>prizeMoney</th>\n",
       "      <th>Tournament Name</th>\n",
       "      <th>singles</th>\n",
       "      <th>Outdoor/Indoor</th>\n",
       "      <th>surface</th>\n",
       "      <th>year</th>\n",
       "    </tr>\n",
       "  </thead>\n",
       "  <tbody>\n",
       "    <tr>\n",
       "      <th>0</th>\n",
       "      <td>451</td>\n",
       "      <td>Doha, Qatar</td>\n",
       "      <td>$1,416,205</td>\n",
       "      <td>Doha</td>\n",
       "      <td>bd06</td>\n",
       "      <td>Outdoor</td>\n",
       "      <td>Hard</td>\n",
       "      <td>2018</td>\n",
       "    </tr>\n",
       "    <tr>\n",
       "      <th>1</th>\n",
       "      <td>339</td>\n",
       "      <td>Brisbane, Australia</td>\n",
       "      <td>$589,680</td>\n",
       "      <td>Brisbane</td>\n",
       "      <td>n552</td>\n",
       "      <td>Outdoor</td>\n",
       "      <td>Hard</td>\n",
       "      <td>2018</td>\n",
       "    </tr>\n",
       "    <tr>\n",
       "      <th>2</th>\n",
       "      <td>891</td>\n",
       "      <td>Pune, India</td>\n",
       "      <td>$589,680</td>\n",
       "      <td>Pune</td>\n",
       "      <td>a678</td>\n",
       "      <td>Outdoor</td>\n",
       "      <td>Hard</td>\n",
       "      <td>2018</td>\n",
       "    </tr>\n",
       "    <tr>\n",
       "      <th>3</th>\n",
       "      <td>338</td>\n",
       "      <td>Sydney, Australia</td>\n",
       "      <td>$589,680</td>\n",
       "      <td>Sydney</td>\n",
       "      <td>dh58</td>\n",
       "      <td>Outdoor</td>\n",
       "      <td>Hard</td>\n",
       "      <td>2019</td>\n",
       "    </tr>\n",
       "    <tr>\n",
       "      <th>4</th>\n",
       "      <td>301</td>\n",
       "      <td>Auckland, New Zealand</td>\n",
       "      <td>$589,680</td>\n",
       "      <td>Auckland</td>\n",
       "      <td>sl08</td>\n",
       "      <td>Outdoor</td>\n",
       "      <td>Hard</td>\n",
       "      <td>2019</td>\n",
       "    </tr>\n",
       "  </tbody>\n",
       "</table>\n",
       "</div>"
      ],
      "text/plain": [
       "    ID               Location  prizeMoney Tournament Name singles   \n",
       "0  451            Doha, Qatar  $1,416,205            Doha    bd06  \\\n",
       "1  339    Brisbane, Australia    $589,680        Brisbane    n552   \n",
       "2  891            Pune, India    $589,680            Pune    a678   \n",
       "3  338      Sydney, Australia    $589,680          Sydney    dh58   \n",
       "4  301  Auckland, New Zealand    $589,680        Auckland    sl08   \n",
       "\n",
       "  Outdoor/Indoor surface  year  \n",
       "0        Outdoor    Hard  2018  \n",
       "1        Outdoor    Hard  2018  \n",
       "2        Outdoor    Hard  2018  \n",
       "3        Outdoor    Hard  2019  \n",
       "4        Outdoor    Hard  2019  "
      ]
     },
     "execution_count": 141,
     "metadata": {},
     "output_type": "execute_result"
    }
   ],
   "source": [
    "all_tournaments = pd.concat([ATP_tornaments, wta_tournaments], ignore_index=True)\n",
    "all_tournaments.head()"
   ]
  },
  {
   "cell_type": "markdown",
   "id": "3dcca4d2",
   "metadata": {},
   "source": [
    "#### Get  top 200 ATP and WTA players into a single DataFrame"
   ]
  },
  {
   "cell_type": "code",
   "execution_count": 130,
   "id": "12451bcd",
   "metadata": {},
   "outputs": [],
   "source": [
    "# edit ATP dataframe to show basic player details\n",
    "\n",
    "ATP_player_stats = pd.DataFrame(ATP_player_stats_response.json()['data'])\n",
    "ATP_player_stats.set_index('ID', inplace=True)\n",
    "\n",
    "ATP_player_stats = ATP_player_stats.drop(['Aces', 'Games played'], axis=1)\n"
   ]
  },
  {
   "cell_type": "code",
   "execution_count": 132,
   "id": "2b0cb142",
   "metadata": {},
   "outputs": [],
   "source": [
    "# edit WTA players dataframe to show basic player details\n",
    "\n",
    "wta_player_stats = pd.DataFrame(wta_rank_response.json()['data'])\n",
    "wta_player_stats.set_index('ID', inplace=True)\n",
    "\n",
    "wta_player_stats = wta_player_stats.drop(['movement', 'rankedAt', 'country', 'points', 'tournamentsPlayed'], axis=1)\n",
    "wta_player_stats.rename(columns={'ranking': 'Rank'}, inplace=True)\n",
    "wta_player_stats.rename(columns={'name': 'Name'}, inplace=True)\n"
   ]
  },
  {
   "cell_type": "code",
   "execution_count": 133,
   "id": "118890ce",
   "metadata": {},
   "outputs": [],
   "source": [
    "top_players = pd.concat([ATP_player_stats, wta_player_stats])"
   ]
  },
  {
   "cell_type": "code",
   "execution_count": 144,
   "id": "aa20d0fa",
   "metadata": {},
   "outputs": [],
   "source": [
    "# top_players.head()"
   ]
  },
  {
   "cell_type": "markdown",
   "id": "b5468dfd",
   "metadata": {},
   "source": [
    "### all tournaments with only ATP results and NaN WTA results"
   ]
  },
  {
   "cell_type": "code",
   "execution_count": 143,
   "id": "815b21b1",
   "metadata": {},
   "outputs": [],
   "source": [
    "all_tournament_results = all_tournaments.merge(top_players, left_on='singles', right_on='ID')\n",
    "all_tournament_results.to_csv('all_tornaments.csv')"
   ]
  },
  {
   "cell_type": "markdown",
   "id": "de5468cb",
   "metadata": {},
   "source": [
    "### read csv files\n",
    "notes on what each column means can be found in ../datasets/datasets_notes.txt"
   ]
  },
  {
   "cell_type": "code",
   "execution_count": 29,
   "id": "99c86bf7",
   "metadata": {},
   "outputs": [],
   "source": [
    "wta2019_tornaments = pd.read_csv('datasets/2019wta.csv')\n",
    "wta2020_tornaments = pd.read_csv('datasets/2020wta.csv')\n",
    "wta2021_tornaments = pd.read_csv('datasets/2021wta.csv')\n",
    "wta2022_tornaments = pd.read_csv('datasets/2022wta.csv')\n",
    "wta2023_tornaments = pd.read_csv('datasets/2023wta.csv')"
   ]
  },
  {
   "cell_type": "code",
   "execution_count": 34,
   "id": "39f39f15",
   "metadata": {},
   "outputs": [],
   "source": [
    "atp2019_tornaments = pd.read_csv('datasets/2019atp.csv')\n",
    "atp2020_tornaments = pd.read_csv('datasets/2020atp.csv')\n",
    "atp2021_tornaments = pd.read_csv('datasets/2021atp.csv')\n",
    "atp2022_tornaments = pd.read_csv('datasets/2022atp.csv')\n",
    "atp2023_tornaments = pd.read_csv('datasets/2023atp.csv')"
   ]
  },
  {
   "cell_type": "code",
   "execution_count": 35,
   "id": "2171d2b9",
   "metadata": {},
   "outputs": [],
   "source": [
    "atp_dfs = [atp2019_tornaments, atp2020_tornaments, atp2021_tornaments, atp2022_tornaments, atp2023_tornaments]\n",
    "atp_tournaments_wOdds = pd.concat(atp_dfs)"
   ]
  },
  {
   "cell_type": "markdown",
   "id": "0526ed1f",
   "metadata": {},
   "source": [
    "#### edit tournaments with odds DataFrames"
   ]
  },
  {
   "cell_type": "code",
   "execution_count": 102,
   "id": "27558004",
   "metadata": {},
   "outputs": [],
   "source": [
    "# join wta & atp tournament with betting odds DataFrames\n",
    "all_tournaments_wOdds = pd.concat([wta_tournaments_wOdds, atp_tournaments_wOdds])\n",
    "\n",
    "# only get finals from each tournament\n",
    "all_tournaments_wOdds = all_tournaments_wOdds.loc[all_tournaments_wOdds['Round'] == 'The Final']"
   ]
  },
  {
   "cell_type": "code",
   "execution_count": 103,
   "id": "4b810bfe",
   "metadata": {},
   "outputs": [],
   "source": [
    "all_tournaments_wOdds['year'] = pd.to_datetime(all_tournaments_wOdds['Date'], format='%d/%m/%Y').dt.year\n",
    "\n",
    "all_tournaments_wOdds = all_tournaments_wOdds.drop(\n",
    "    ['Round', 'Tier', 'Comment', 'Loser', 'WPts', 'LPts', 'Wsets', 'Lsets', 'B365L', 'PSL', 'MaxL', 'AvgL',\n",
    "     'W1', 'L1', 'W2', 'L2', 'W3', 'L3', 'W4', 'L4', 'W5', 'L5', 'Series', 'Best of', 'Date'], axis=1)\n",
    "\n",
    "all_tournaments_wOdds['WTA'] = all_tournaments_wOdds['WTA'].fillna(0)\n",
    "all_tournaments_wOdds['ATP'] = all_tournaments_wOdds['ATP'].fillna(0)\n"
   ]
  },
  {
   "cell_type": "code",
   "execution_count": 104,
   "id": "0d8e7992",
   "metadata": {},
   "outputs": [],
   "source": [
    "# create unique index for all tournamnets with odds\n",
    "all_tournaments_wOdds['index'] = all_tournaments_wOdds['WTA'].astype(str) + '_' + all_tournaments_wOdds['ATP'].astype(str) + '_' + all_tournaments_wOdds['Tournament'].astype(str)\n",
    "all_tournaments_wOdds.set_index('index', inplace=True)"
   ]
  },
  {
   "cell_type": "code",
   "execution_count": 105,
   "id": "f80c7456",
   "metadata": {},
   "outputs": [
    {
     "data": {
      "text/html": [
       "<div>\n",
       "<style scoped>\n",
       "    .dataframe tbody tr th:only-of-type {\n",
       "        vertical-align: middle;\n",
       "    }\n",
       "\n",
       "    .dataframe tbody tr th {\n",
       "        vertical-align: top;\n",
       "    }\n",
       "\n",
       "    .dataframe thead th {\n",
       "        text-align: right;\n",
       "    }\n",
       "</style>\n",
       "<table border=\"1\" class=\"dataframe\">\n",
       "  <thead>\n",
       "    <tr style=\"text-align: right;\">\n",
       "      <th></th>\n",
       "      <th>WTA</th>\n",
       "      <th>Location</th>\n",
       "      <th>Tournament</th>\n",
       "      <th>Court</th>\n",
       "      <th>Surface</th>\n",
       "      <th>Winner</th>\n",
       "      <th>WRank</th>\n",
       "      <th>LRank</th>\n",
       "      <th>B365W</th>\n",
       "      <th>PSW</th>\n",
       "      <th>MaxW</th>\n",
       "      <th>AvgW</th>\n",
       "      <th>ATP</th>\n",
       "      <th>year</th>\n",
       "    </tr>\n",
       "    <tr>\n",
       "      <th>index</th>\n",
       "      <th></th>\n",
       "      <th></th>\n",
       "      <th></th>\n",
       "      <th></th>\n",
       "      <th></th>\n",
       "      <th></th>\n",
       "      <th></th>\n",
       "      <th></th>\n",
       "      <th></th>\n",
       "      <th></th>\n",
       "      <th></th>\n",
       "      <th></th>\n",
       "      <th></th>\n",
       "      <th></th>\n",
       "    </tr>\n",
       "  </thead>\n",
       "  <tbody>\n",
       "    <tr>\n",
       "      <th>1.0_0.0_ASB Classic</th>\n",
       "      <td>1.0</td>\n",
       "      <td>Auckland</td>\n",
       "      <td>ASB Classic</td>\n",
       "      <td>Outdoor</td>\n",
       "      <td>Hard</td>\n",
       "      <td>Goerges J.</td>\n",
       "      <td>14.0</td>\n",
       "      <td>152.0</td>\n",
       "      <td>1.40</td>\n",
       "      <td>1.43</td>\n",
       "      <td>1.50</td>\n",
       "      <td>1.42</td>\n",
       "      <td>0.0</td>\n",
       "      <td>2019</td>\n",
       "    </tr>\n",
       "    <tr>\n",
       "      <th>2.0_0.0_Brisbane International</th>\n",
       "      <td>2.0</td>\n",
       "      <td>Brisbane</td>\n",
       "      <td>Brisbane International</td>\n",
       "      <td>Outdoor</td>\n",
       "      <td>Hard</td>\n",
       "      <td>Pliskova Ka.</td>\n",
       "      <td>8.0</td>\n",
       "      <td>27.0</td>\n",
       "      <td>1.61</td>\n",
       "      <td>1.62</td>\n",
       "      <td>1.67</td>\n",
       "      <td>1.60</td>\n",
       "      <td>0.0</td>\n",
       "      <td>2019</td>\n",
       "    </tr>\n",
       "    <tr>\n",
       "      <th>3.0_0.0_Shenzhen Open</th>\n",
       "      <td>3.0</td>\n",
       "      <td>Shenzhen</td>\n",
       "      <td>Shenzhen Open</td>\n",
       "      <td>Outdoor</td>\n",
       "      <td>Hard</td>\n",
       "      <td>Sabalenka A.</td>\n",
       "      <td>13.0</td>\n",
       "      <td>62.0</td>\n",
       "      <td>1.30</td>\n",
       "      <td>1.25</td>\n",
       "      <td>1.33</td>\n",
       "      <td>1.26</td>\n",
       "      <td>0.0</td>\n",
       "      <td>2019</td>\n",
       "    </tr>\n",
       "    <tr>\n",
       "      <th>4.0_0.0_Hobart International</th>\n",
       "      <td>4.0</td>\n",
       "      <td>Hobart</td>\n",
       "      <td>Hobart International</td>\n",
       "      <td>Outdoor</td>\n",
       "      <td>Hard</td>\n",
       "      <td>Kenin S.</td>\n",
       "      <td>56.0</td>\n",
       "      <td>77.0</td>\n",
       "      <td>1.44</td>\n",
       "      <td>1.46</td>\n",
       "      <td>1.50</td>\n",
       "      <td>1.44</td>\n",
       "      <td>0.0</td>\n",
       "      <td>2019</td>\n",
       "    </tr>\n",
       "    <tr>\n",
       "      <th>5.0_0.0_Sydney International</th>\n",
       "      <td>5.0</td>\n",
       "      <td>Sydney</td>\n",
       "      <td>Sydney International</td>\n",
       "      <td>Outdoor</td>\n",
       "      <td>Hard</td>\n",
       "      <td>Kvitova P.</td>\n",
       "      <td>8.0</td>\n",
       "      <td>15.0</td>\n",
       "      <td>1.80</td>\n",
       "      <td>1.93</td>\n",
       "      <td>1.93</td>\n",
       "      <td>1.84</td>\n",
       "      <td>0.0</td>\n",
       "      <td>2019</td>\n",
       "    </tr>\n",
       "  </tbody>\n",
       "</table>\n",
       "</div>"
      ],
      "text/plain": [
       "                                WTA  Location              Tournament   \n",
       "index                                                                   \n",
       "1.0_0.0_ASB Classic             1.0  Auckland             ASB Classic  \\\n",
       "2.0_0.0_Brisbane International  2.0  Brisbane  Brisbane International   \n",
       "3.0_0.0_Shenzhen Open           3.0  Shenzhen           Shenzhen Open   \n",
       "4.0_0.0_Hobart International    4.0    Hobart    Hobart International   \n",
       "5.0_0.0_Sydney International    5.0    Sydney    Sydney International   \n",
       "\n",
       "                                  Court Surface        Winner  WRank  LRank   \n",
       "index                                                                         \n",
       "1.0_0.0_ASB Classic             Outdoor    Hard    Goerges J.   14.0  152.0  \\\n",
       "2.0_0.0_Brisbane International  Outdoor    Hard  Pliskova Ka.    8.0   27.0   \n",
       "3.0_0.0_Shenzhen Open           Outdoor    Hard  Sabalenka A.   13.0   62.0   \n",
       "4.0_0.0_Hobart International    Outdoor    Hard      Kenin S.   56.0   77.0   \n",
       "5.0_0.0_Sydney International    Outdoor    Hard    Kvitova P.    8.0   15.0   \n",
       "\n",
       "                                B365W   PSW  MaxW  AvgW  ATP  year  \n",
       "index                                                               \n",
       "1.0_0.0_ASB Classic              1.40  1.43  1.50  1.42  0.0  2019  \n",
       "2.0_0.0_Brisbane International   1.61  1.62  1.67  1.60  0.0  2019  \n",
       "3.0_0.0_Shenzhen Open            1.30  1.25  1.33  1.26  0.0  2019  \n",
       "4.0_0.0_Hobart International     1.44  1.46  1.50  1.44  0.0  2019  \n",
       "5.0_0.0_Sydney International     1.80  1.93  1.93  1.84  0.0  2019  "
      ]
     },
     "execution_count": 105,
     "metadata": {},
     "output_type": "execute_result"
    }
   ],
   "source": [
    "all_tournaments_wOdds.head()"
   ]
  },
  {
   "cell_type": "code",
   "execution_count": 80,
   "id": "19e61d33",
   "metadata": {},
   "outputs": [],
   "source": [
    "all_tournaments_wOdds.to_csv('all_tournaments_wOdds.csv')"
   ]
  },
  {
   "cell_type": "code",
   "execution_count": null,
   "id": "2f3e7581",
   "metadata": {},
   "outputs": [],
   "source": []
  }
 ],
 "metadata": {
  "kernelspec": {
   "display_name": "Python 3 (ipykernel)",
   "language": "python",
   "name": "python3"
  },
  "language_info": {
   "codemirror_mode": {
    "name": "ipython",
    "version": 3
   },
   "file_extension": ".py",
   "mimetype": "text/x-python",
   "name": "python",
   "nbconvert_exporter": "python",
   "pygments_lexer": "ipython3",
   "version": "3.10.9"
  }
 },
 "nbformat": 4,
 "nbformat_minor": 5
}
